{
 "cells": [
  {
   "cell_type": "markdown",
   "metadata": {},
   "source": [
    "## Python Packages"
   ]
  },
  {
   "cell_type": "code",
   "execution_count": 7,
   "metadata": {
    "collapsed": true
   },
   "outputs": [],
   "source": [
    "import numpy as np\n",
    "import pandas as pd\n",
    "\n",
    "import seaborn as sns\n",
    "import matplotlib.pyplot as plt\n",
    "\n",
    "%matplotlib inline\n",
    "\n",
    "pd.set_option('display.max_columns', 100)"
   ]
  },
  {
   "cell_type": "markdown",
   "metadata": {},
   "source": [
    "## Acquire the data"
   ]
  },
  {
   "cell_type": "code",
   "execution_count": 3,
   "metadata": {},
   "outputs": [],
   "source": [
    "SKdf=pd.read_csv('SalesKaggle3.csv') "
   ]
  },
  {
   "cell_type": "code",
   "execution_count": 4,
   "metadata": {
    "scrolled": true
   },
   "outputs": [
    {
     "name": "stdout",
     "output_type": "stream",
     "text": [
      "<class 'pandas.core.frame.DataFrame'>\n",
      "RangeIndex: 198917 entries, 0 to 198916\n",
      "Data columns (total 14 columns):\n",
      "Order               198917 non-null int64\n",
      "File_Type           198917 non-null object\n",
      "SKU_number          198917 non-null int64\n",
      "SoldFlag            75996 non-null float64\n",
      "SoldCount           75996 non-null float64\n",
      "MarketingType       198917 non-null object\n",
      "ReleaseNumber       198917 non-null int64\n",
      "New_Release_Flag    198917 non-null int64\n",
      "StrengthFactor      198917 non-null float64\n",
      "PriceReg            198917 non-null float64\n",
      "ReleaseYear         198917 non-null int64\n",
      "ItemCount           198917 non-null int64\n",
      "LowUserPrice        198917 non-null float64\n",
      "LowNetPrice         198917 non-null float64\n",
      "dtypes: float64(6), int64(6), object(2)\n",
      "memory usage: 21.2+ MB\n"
     ]
    }
   ],
   "source": [
    "SKdf.info()"
   ]
  },
  {
   "cell_type": "code",
   "execution_count": 11,
   "metadata": {},
   "outputs": [
    {
     "data": {
      "text/html": [
       "<div>\n",
       "<style>\n",
       "    .dataframe thead tr:only-child th {\n",
       "        text-align: right;\n",
       "    }\n",
       "\n",
       "    .dataframe thead th {\n",
       "        text-align: left;\n",
       "    }\n",
       "\n",
       "    .dataframe tbody tr th {\n",
       "        vertical-align: top;\n",
       "    }\n",
       "</style>\n",
       "<table border=\"1\" class=\"dataframe\">\n",
       "  <thead>\n",
       "    <tr style=\"text-align: right;\">\n",
       "      <th></th>\n",
       "      <th>Order</th>\n",
       "      <th>SKU_number</th>\n",
       "      <th>SoldFlag</th>\n",
       "      <th>SoldCount</th>\n",
       "      <th>ReleaseNumber</th>\n",
       "      <th>New_Release_Flag</th>\n",
       "      <th>StrengthFactor</th>\n",
       "      <th>PriceReg</th>\n",
       "      <th>ReleaseYear</th>\n",
       "      <th>ItemCount</th>\n",
       "      <th>LowUserPrice</th>\n",
       "      <th>LowNetPrice</th>\n",
       "    </tr>\n",
       "  </thead>\n",
       "  <tbody>\n",
       "    <tr>\n",
       "      <th>count</th>\n",
       "      <td>198917.000000</td>\n",
       "      <td>1.989170e+05</td>\n",
       "      <td>75996.000000</td>\n",
       "      <td>75996.000000</td>\n",
       "      <td>198917.000000</td>\n",
       "      <td>198917.000000</td>\n",
       "      <td>1.989170e+05</td>\n",
       "      <td>198917.000000</td>\n",
       "      <td>198917.000000</td>\n",
       "      <td>198917.000000</td>\n",
       "      <td>198917.000000</td>\n",
       "      <td>198917.000000</td>\n",
       "    </tr>\n",
       "    <tr>\n",
       "      <th>mean</th>\n",
       "      <td>106483.543242</td>\n",
       "      <td>8.613626e+05</td>\n",
       "      <td>0.171009</td>\n",
       "      <td>0.322306</td>\n",
       "      <td>3.412202</td>\n",
       "      <td>0.642248</td>\n",
       "      <td>1.117115e+06</td>\n",
       "      <td>90.895243</td>\n",
       "      <td>2006.016414</td>\n",
       "      <td>41.426283</td>\n",
       "      <td>30.982487</td>\n",
       "      <td>46.832053</td>\n",
       "    </tr>\n",
       "    <tr>\n",
       "      <th>std</th>\n",
       "      <td>60136.716784</td>\n",
       "      <td>8.699794e+05</td>\n",
       "      <td>0.376519</td>\n",
       "      <td>1.168615</td>\n",
       "      <td>3.864243</td>\n",
       "      <td>0.479340</td>\n",
       "      <td>1.522090e+06</td>\n",
       "      <td>86.736367</td>\n",
       "      <td>9.158331</td>\n",
       "      <td>37.541215</td>\n",
       "      <td>69.066155</td>\n",
       "      <td>128.513236</td>\n",
       "    </tr>\n",
       "    <tr>\n",
       "      <th>min</th>\n",
       "      <td>2.000000</td>\n",
       "      <td>5.000100e+04</td>\n",
       "      <td>0.000000</td>\n",
       "      <td>0.000000</td>\n",
       "      <td>0.000000</td>\n",
       "      <td>0.000000</td>\n",
       "      <td>6.275000e+00</td>\n",
       "      <td>0.000000</td>\n",
       "      <td>0.000000</td>\n",
       "      <td>0.000000</td>\n",
       "      <td>0.000000</td>\n",
       "      <td>0.000000</td>\n",
       "    </tr>\n",
       "    <tr>\n",
       "      <th>25%</th>\n",
       "      <td>55665.000000</td>\n",
       "      <td>2.172520e+05</td>\n",
       "      <td>0.000000</td>\n",
       "      <td>0.000000</td>\n",
       "      <td>1.000000</td>\n",
       "      <td>0.000000</td>\n",
       "      <td>1.614188e+05</td>\n",
       "      <td>42.000000</td>\n",
       "      <td>2003.000000</td>\n",
       "      <td>21.000000</td>\n",
       "      <td>4.910000</td>\n",
       "      <td>17.950000</td>\n",
       "    </tr>\n",
       "    <tr>\n",
       "      <th>50%</th>\n",
       "      <td>108569.000000</td>\n",
       "      <td>6.122080e+05</td>\n",
       "      <td>0.000000</td>\n",
       "      <td>0.000000</td>\n",
       "      <td>2.000000</td>\n",
       "      <td>1.000000</td>\n",
       "      <td>5.822240e+05</td>\n",
       "      <td>69.950000</td>\n",
       "      <td>2007.000000</td>\n",
       "      <td>32.000000</td>\n",
       "      <td>16.080000</td>\n",
       "      <td>33.980000</td>\n",
       "    </tr>\n",
       "    <tr>\n",
       "      <th>75%</th>\n",
       "      <td>158298.000000</td>\n",
       "      <td>9.047510e+05</td>\n",
       "      <td>0.000000</td>\n",
       "      <td>0.000000</td>\n",
       "      <td>5.000000</td>\n",
       "      <td>1.000000</td>\n",
       "      <td>1.430083e+06</td>\n",
       "      <td>116.000000</td>\n",
       "      <td>2011.000000</td>\n",
       "      <td>50.000000</td>\n",
       "      <td>40.240000</td>\n",
       "      <td>55.490000</td>\n",
       "    </tr>\n",
       "    <tr>\n",
       "      <th>max</th>\n",
       "      <td>208027.000000</td>\n",
       "      <td>3.960788e+06</td>\n",
       "      <td>1.000000</td>\n",
       "      <td>73.000000</td>\n",
       "      <td>99.000000</td>\n",
       "      <td>1.000000</td>\n",
       "      <td>1.738445e+07</td>\n",
       "      <td>12671.480000</td>\n",
       "      <td>2018.000000</td>\n",
       "      <td>2542.000000</td>\n",
       "      <td>14140.210000</td>\n",
       "      <td>19138.790000</td>\n",
       "    </tr>\n",
       "  </tbody>\n",
       "</table>\n",
       "</div>"
      ],
      "text/plain": [
       "               Order    SKU_number      SoldFlag     SoldCount  ReleaseNumber  \\\n",
       "count  198917.000000  1.989170e+05  75996.000000  75996.000000  198917.000000   \n",
       "mean   106483.543242  8.613626e+05      0.171009      0.322306       3.412202   \n",
       "std     60136.716784  8.699794e+05      0.376519      1.168615       3.864243   \n",
       "min         2.000000  5.000100e+04      0.000000      0.000000       0.000000   \n",
       "25%     55665.000000  2.172520e+05      0.000000      0.000000       1.000000   \n",
       "50%    108569.000000  6.122080e+05      0.000000      0.000000       2.000000   \n",
       "75%    158298.000000  9.047510e+05      0.000000      0.000000       5.000000   \n",
       "max    208027.000000  3.960788e+06      1.000000     73.000000      99.000000   \n",
       "\n",
       "       New_Release_Flag  StrengthFactor       PriceReg    ReleaseYear  \\\n",
       "count     198917.000000    1.989170e+05  198917.000000  198917.000000   \n",
       "mean           0.642248    1.117115e+06      90.895243    2006.016414   \n",
       "std            0.479340    1.522090e+06      86.736367       9.158331   \n",
       "min            0.000000    6.275000e+00       0.000000       0.000000   \n",
       "25%            0.000000    1.614188e+05      42.000000    2003.000000   \n",
       "50%            1.000000    5.822240e+05      69.950000    2007.000000   \n",
       "75%            1.000000    1.430083e+06     116.000000    2011.000000   \n",
       "max            1.000000    1.738445e+07   12671.480000    2018.000000   \n",
       "\n",
       "           ItemCount   LowUserPrice    LowNetPrice  \n",
       "count  198917.000000  198917.000000  198917.000000  \n",
       "mean       41.426283      30.982487      46.832053  \n",
       "std        37.541215      69.066155     128.513236  \n",
       "min         0.000000       0.000000       0.000000  \n",
       "25%        21.000000       4.910000      17.950000  \n",
       "50%        32.000000      16.080000      33.980000  \n",
       "75%        50.000000      40.240000      55.490000  \n",
       "max      2542.000000   14140.210000   19138.790000  "
      ]
     },
     "execution_count": 11,
     "metadata": {},
     "output_type": "execute_result"
    }
   ],
   "source": [
    "SKdf.describe()"
   ]
  },
  {
   "cell_type": "code",
   "execution_count": 6,
   "metadata": {},
   "outputs": [
    {
     "data": {
      "text/html": [
       "<div>\n",
       "<style>\n",
       "    .dataframe thead tr:only-child th {\n",
       "        text-align: right;\n",
       "    }\n",
       "\n",
       "    .dataframe thead th {\n",
       "        text-align: left;\n",
       "    }\n",
       "\n",
       "    .dataframe tbody tr th {\n",
       "        vertical-align: top;\n",
       "    }\n",
       "</style>\n",
       "<table border=\"1\" class=\"dataframe\">\n",
       "  <thead>\n",
       "    <tr style=\"text-align: right;\">\n",
       "      <th></th>\n",
       "      <th>Order</th>\n",
       "      <th>File_Type</th>\n",
       "      <th>SKU_number</th>\n",
       "      <th>SoldFlag</th>\n",
       "      <th>SoldCount</th>\n",
       "      <th>MarketingType</th>\n",
       "      <th>ReleaseNumber</th>\n",
       "      <th>New_Release_Flag</th>\n",
       "      <th>StrengthFactor</th>\n",
       "      <th>PriceReg</th>\n",
       "      <th>ReleaseYear</th>\n",
       "      <th>ItemCount</th>\n",
       "      <th>LowUserPrice</th>\n",
       "      <th>LowNetPrice</th>\n",
       "    </tr>\n",
       "  </thead>\n",
       "  <tbody>\n",
       "    <tr>\n",
       "      <th>0</th>\n",
       "      <td>2</td>\n",
       "      <td>Historical</td>\n",
       "      <td>1737127</td>\n",
       "      <td>0.0</td>\n",
       "      <td>0.0</td>\n",
       "      <td>D</td>\n",
       "      <td>15</td>\n",
       "      <td>1</td>\n",
       "      <td>682743.0</td>\n",
       "      <td>44.99</td>\n",
       "      <td>2015</td>\n",
       "      <td>8</td>\n",
       "      <td>28.97</td>\n",
       "      <td>31.84</td>\n",
       "    </tr>\n",
       "    <tr>\n",
       "      <th>1</th>\n",
       "      <td>3</td>\n",
       "      <td>Historical</td>\n",
       "      <td>3255963</td>\n",
       "      <td>0.0</td>\n",
       "      <td>0.0</td>\n",
       "      <td>D</td>\n",
       "      <td>7</td>\n",
       "      <td>1</td>\n",
       "      <td>1016014.0</td>\n",
       "      <td>24.81</td>\n",
       "      <td>2005</td>\n",
       "      <td>39</td>\n",
       "      <td>0.00</td>\n",
       "      <td>15.54</td>\n",
       "    </tr>\n",
       "    <tr>\n",
       "      <th>2</th>\n",
       "      <td>4</td>\n",
       "      <td>Historical</td>\n",
       "      <td>612701</td>\n",
       "      <td>0.0</td>\n",
       "      <td>0.0</td>\n",
       "      <td>D</td>\n",
       "      <td>0</td>\n",
       "      <td>0</td>\n",
       "      <td>340464.0</td>\n",
       "      <td>46.00</td>\n",
       "      <td>2013</td>\n",
       "      <td>34</td>\n",
       "      <td>30.19</td>\n",
       "      <td>27.97</td>\n",
       "    </tr>\n",
       "    <tr>\n",
       "      <th>3</th>\n",
       "      <td>6</td>\n",
       "      <td>Historical</td>\n",
       "      <td>115883</td>\n",
       "      <td>1.0</td>\n",
       "      <td>1.0</td>\n",
       "      <td>D</td>\n",
       "      <td>4</td>\n",
       "      <td>1</td>\n",
       "      <td>334011.0</td>\n",
       "      <td>100.00</td>\n",
       "      <td>2006</td>\n",
       "      <td>20</td>\n",
       "      <td>133.93</td>\n",
       "      <td>83.15</td>\n",
       "    </tr>\n",
       "    <tr>\n",
       "      <th>4</th>\n",
       "      <td>7</td>\n",
       "      <td>Historical</td>\n",
       "      <td>863939</td>\n",
       "      <td>1.0</td>\n",
       "      <td>1.0</td>\n",
       "      <td>D</td>\n",
       "      <td>2</td>\n",
       "      <td>1</td>\n",
       "      <td>1287938.0</td>\n",
       "      <td>121.95</td>\n",
       "      <td>2010</td>\n",
       "      <td>28</td>\n",
       "      <td>4.00</td>\n",
       "      <td>23.99</td>\n",
       "    </tr>\n",
       "  </tbody>\n",
       "</table>\n",
       "</div>"
      ],
      "text/plain": [
       "   Order   File_Type  SKU_number  SoldFlag  SoldCount MarketingType  \\\n",
       "0      2  Historical     1737127       0.0        0.0             D   \n",
       "1      3  Historical     3255963       0.0        0.0             D   \n",
       "2      4  Historical      612701       0.0        0.0             D   \n",
       "3      6  Historical      115883       1.0        1.0             D   \n",
       "4      7  Historical      863939       1.0        1.0             D   \n",
       "\n",
       "   ReleaseNumber  New_Release_Flag  StrengthFactor  PriceReg  ReleaseYear  \\\n",
       "0             15                 1        682743.0     44.99         2015   \n",
       "1              7                 1       1016014.0     24.81         2005   \n",
       "2              0                 0        340464.0     46.00         2013   \n",
       "3              4                 1        334011.0    100.00         2006   \n",
       "4              2                 1       1287938.0    121.95         2010   \n",
       "\n",
       "   ItemCount  LowUserPrice  LowNetPrice  \n",
       "0          8         28.97        31.84  \n",
       "1         39          0.00        15.54  \n",
       "2         34         30.19        27.97  \n",
       "3         20        133.93        83.15  \n",
       "4         28          4.00        23.99  "
      ]
     },
     "execution_count": 6,
     "metadata": {},
     "output_type": "execute_result"
    }
   ],
   "source": [
    "SKdf.head()"
   ]
  },
  {
   "cell_type": "code",
   "execution_count": 21,
   "metadata": {
    "scrolled": false
   },
   "outputs": [
    {
     "name": "stdout",
     "output_type": "stream",
     "text": [
      "Active        122921\n",
      "Historical     75996\n",
      "Name: File_Type, dtype: int64\n",
      "0.0    63000\n",
      "1.0    12996\n",
      "Name: SoldFlag, dtype: int64\n",
      "ratio of NaN in the SoldFlag\n",
      "0.617951205779\n"
     ]
    }
   ],
   "source": [
    "print(SKdf.File_Type.value_counts())\n",
    "print(SKdf.SoldFlag.value_counts())\n",
    "print ('ratio of NaN in the SoldFlag')\n",
    "print(SKdf.SoldFlag.isnull().mean())"
   ]
  },
  {
   "cell_type": "markdown",
   "metadata": {},
   "source": [
    "### select the rows with the effective values of SoldFlag\n",
    "\n",
    "#### This is also the historical data"
   ]
  },
  {
   "cell_type": "code",
   "execution_count": 17,
   "metadata": {},
   "outputs": [
    {
     "name": "stdout",
     "output_type": "stream",
     "text": [
      "<class 'pandas.core.frame.DataFrame'>\n",
      "Int64Index: 75996 entries, 0 to 75995\n",
      "Data columns (total 14 columns):\n",
      "Order               75996 non-null int64\n",
      "File_Type           75996 non-null object\n",
      "SKU_number          75996 non-null int64\n",
      "SoldFlag            75996 non-null float64\n",
      "SoldCount           75996 non-null float64\n",
      "MarketingType       75996 non-null object\n",
      "ReleaseNumber       75996 non-null int64\n",
      "New_Release_Flag    75996 non-null int64\n",
      "StrengthFactor      75996 non-null float64\n",
      "PriceReg            75996 non-null float64\n",
      "ReleaseYear         75996 non-null int64\n",
      "ItemCount           75996 non-null int64\n",
      "LowUserPrice        75996 non-null float64\n",
      "LowNetPrice         75996 non-null float64\n",
      "dtypes: float64(6), int64(6), object(2)\n",
      "memory usage: 8.7+ MB\n"
     ]
    }
   ],
   "source": [
    "SKdf2=SKdf[SKdf.SoldFlag.notnull()]\n",
    "#SKdf2=SKdf.loc[SKdf.SoldFlag.notnull()]\n",
    "SKdf2.info()"
   ]
  },
  {
   "cell_type": "markdown",
   "metadata": {
    "collapsed": true
   },
   "source": [
    "## Exploratory data analysis"
   ]
  },
  {
   "cell_type": "markdown",
   "metadata": {},
   "source": [
    "SKU_number: This is the unique identifier for each product.\n",
    "\n",
    "Order: Just a sequential counter. Can be ignored.\n",
    "\n",
    "SoldFlag: 1 = sold in past 6 mos. 0 = Not sold\n",
    "\n",
    "MarketingType = Two categories of how we market the product. This should probably be ignored, or better yet, each type should be considered independently.\n",
    "\n",
    "New_Release_Flag = Any product that has had a future release (i.e., Release Number > 1)"
   ]
  },
  {
   "cell_type": "code",
   "execution_count": 19,
   "metadata": {},
   "outputs": [
    {
     "name": "stdout",
     "output_type": "stream",
     "text": [
      "['Order' 'File_Type' 'SKU_number' 'SoldFlag' 'SoldCount' 'MarketingType'\n",
      " 'ReleaseNumber' 'New_Release_Flag' 'StrengthFactor' 'PriceReg'\n",
      " 'ReleaseYear' 'ItemCount' 'LowUserPrice' 'LowNetPrice']\n"
     ]
    }
   ],
   "source": [
    "print(SKdf2.columns.values)"
   ]
  },
  {
   "cell_type": "code",
   "execution_count": 22,
   "metadata": {},
   "outputs": [
    {
     "name": "stdout",
     "output_type": "stream",
     "text": [
      "Historical    75996\n",
      "Name: File_Type, dtype: int64\n",
      "S    40877\n",
      "D    35119\n",
      "Name: MarketingType, dtype: int64\n"
     ]
    }
   ],
   "source": [
    "print(SKdf2.File_Type.value_counts())\n",
    "print(SKdf2.MarketingType.value_counts())"
   ]
  },
  {
   "cell_type": "markdown",
   "metadata": {},
   "source": [
    "#### 1. Scatter plot"
   ]
  },
  {
   "cell_type": "code",
   "execution_count": 23,
   "metadata": {},
   "outputs": [
    {
     "data": {
      "image/png": "[encoded data removed]",
      "text/plain": [
       "<matplotlib.figure.Figure at 0x11bc57710>"
      ]
     },
     "metadata": {},
     "output_type": "display_data"
    }
   ],
   "source": [
    "g = sns.FacetGrid(SKdf2, hue=\"SoldFlag\", col=\"MarketingType\", margin_titles=True, palette={1:\"seagreen\", 0:\"red\"})\n",
    "g=g.map(plt.scatter, \"StrengthFactor\", \"PriceReg\", edgecolor=\"w\").add_legend();"
   ]
  },
  {
   "cell_type": "code",
   "execution_count": 24,
   "metadata": {},
   "outputs": [
    {
     "data": {
      "image/png": "[encoded data removed]",
      "text/plain": [
       "<matplotlib.figure.Figure at 0x11bf94da0>"
      ]
     },
     "metadata": {},
     "output_type": "display_data"
    }
   ],
   "source": [
    "g = sns.FacetGrid(SKdf2, hue=\"SoldFlag\", col=\"MarketingType\", margin_titles=True, palette={1:\"seagreen\", 0:\"red\"})\n",
    "g=g.map(plt.scatter, \"ReleaseYear\", \"PriceReg\", edgecolor=\"w\").add_legend();"
   ]
  },
  {
   "cell_type": "code",
   "execution_count": 25,
   "metadata": {},
   "outputs": [
    {
     "data": {
      "image/png": "[encoded data removed]",
      "text/plain": [
       "<matplotlib.figure.Figure at 0x11c208358>"
      ]
     },
     "metadata": {},
     "output_type": "display_data"
    }
   ],
   "source": [
    "g = sns.FacetGrid(SKdf2, hue=\"SoldFlag\", col=\"MarketingType\", margin_titles=True, palette={1:\"seagreen\", 0:\"red\"})\n",
    "g=g.map(plt.scatter, \"LowUserPrice\", \"LowNetPrice\", edgecolor=\"w\").add_legend();"
   ]
  },
  {
   "cell_type": "code",
   "execution_count": null,
   "metadata": {
    "collapsed": true
   },
   "outputs": [],
   "source": []
  }
 ],
 "metadata": {
  "kernelspec": {
   "display_name": "Python 3",
   "language": "python",
   "name": "python3"
  },
  "language_info": {
   "codemirror_mode": {
    "name": "ipython",
    "version": 3
   },
   "file_extension": ".py",
   "mimetype": "text/x-python",
   "name": "python",
   "nbconvert_exporter": "python",
   "pygments_lexer": "ipython3",
   "version": "3.6.1"
  }
 },
 "nbformat": 4,
 "nbformat_minor": 2
}
